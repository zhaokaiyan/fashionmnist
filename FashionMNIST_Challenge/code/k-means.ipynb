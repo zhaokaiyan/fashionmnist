{
 "cells": [
  {
   "cell_type": "code",
   "execution_count": 1,
   "metadata": {
    "collapsed": false,
    "deletable": true,
    "editable": true
   },
   "outputs": [
    {
     "name": "stdout",
     "output_type": "stream",
     "text": [
      "Extracting data/fashion/train-images-idx3-ubyte.gz\n",
      "Extracting data/fashion/train-labels-idx1-ubyte.gz\n",
      "Extracting data/fashion/t10k-images-idx3-ubyte.gz\n",
      "Extracting data/fashion/t10k-labels-idx1-ubyte.gz\n",
      "[(3, 365), (4, 180), (6, 100)]\n",
      "[(4, 616), (2, 567), (6, 330)]\n",
      "[(0, 539), (6, 101), (3, 9)]\n",
      "[(1, 873), (3, 417), (0, 13)]\n",
      "[(7, 795), (5, 220), (9, 30)]\n",
      "[(6, 360), (2, 343), (0, 252)]\n",
      "[(9, 437), (8, 303), (7, 129)]\n",
      "[(9, 488), (5, 50), (7, 3)]\n",
      "[(5, 676), (6, 96), (7, 73)]\n",
      "[(8, 420), (0, 6), (4, 5)]\n"
     ]
    }
   ],
   "source": [
    "import numpy as np\n",
    "import tensorflow as tf\n",
    "from collections import Counter\n",
    "from tensorflow.examples.tutorials.mnist import input_data\n",
    "\n",
    "mnist = input_data.read_data_sets(\"data/fashion\")\n",
    "X, y, k = mnist.test.images, mnist.test.labels, 10\n",
    "# 选择随机点作为起始位置\n",
    "start_pos = tf.Variable(X[np.random.randint(X.shape[0], size=k), :], dtype=tf.float32)\n",
    "centroids = tf.Variable(start_pos.initialized_value(), 'S', dtype=tf.float32)\n",
    "\n",
    "# 填充点\n",
    "points = tf.Variable(X, 'X', dtype=tf.float32)\n",
    "ones_like = tf.ones((points.get_shape()[0], 1))\n",
    "prev_assignments = tf.Variable(tf.zeros((points.get_shape()[0], ), dtype=tf.int64))\n",
    "\n",
    "# 找到所有点之间的距离\n",
    "p1 = tf.matmul(\n",
    "    tf.expand_dims(tf.reduce_sum(tf.square(points), 1), 1),\n",
    "    tf.ones(shape=(1, k))\n",
    ")\n",
    "p2 = tf.transpose(tf.matmul(\n",
    "    tf.reshape(tf.reduce_sum(tf.square(centroids), 1), shape=[-1, 1]),\n",
    "    ones_like,\n",
    "    transpose_b=True\n",
    "))\n",
    "distance = tf.sqrt(tf.add(p1, p2) - 2 * tf.matmul(points, centroids, transpose_b=True))\n",
    "\n",
    "# 将每个点分配到最近的质心\n",
    "point_to_centroid_assignment = tf.argmin(distance, axis=1)\n",
    "\n",
    "# 重新计算中心\n",
    "total = tf.unsorted_segment_sum(points, point_to_centroid_assignment, k)\n",
    "count = tf.unsorted_segment_sum(ones_like, point_to_centroid_assignment, k)\n",
    "means = total / count\n",
    "\n",
    "# 如果当前和以前的作业有任何差异，请继续\n",
    "is_continue = tf.reduce_any(tf.not_equal(point_to_centroid_assignment, prev_assignments))\n",
    "\n",
    "with tf.control_dependencies([is_continue]):\n",
    "    loop = tf.group(centroids.assign(means), prev_assignments.assign(point_to_centroid_assignment))\n",
    "\n",
    "sess = tf.Session()\n",
    "sess.run(tf.global_variables_initializer())\n",
    "\n",
    "# 进行多次迭代\n",
    "has_changed, cnt = True, 0\n",
    "while has_changed and cnt < 300:\n",
    "    cnt += 1\n",
    "    has_changed, _ = sess.run([is_continue, loop])\n",
    "\n",
    "# 查看如何分配数据\n",
    "res = sess.run(point_to_centroid_assignment)\n",
    "nums_in_clusters = [[] for i in range(10)]\n",
    "for cluster, real_num in zip(list(res), list(y)):\n",
    "    nums_in_clusters[cluster].append(real_num)\n",
    "\n",
    "for i in range(10):\n",
    "    print(Counter(nums_in_clusters[i]).most_common(3))"
   ]
  },
  {
   "cell_type": "code",
   "execution_count": null,
   "metadata": {
    "collapsed": true
   },
   "outputs": [],
   "source": []
  }
 ],
 "metadata": {
  "kernelspec": {
   "display_name": "Python 3",
   "language": "python",
   "name": "python3"
  },
  "language_info": {
   "codemirror_mode": {
    "name": "ipython",
    "version": 3
   },
   "file_extension": ".py",
   "mimetype": "text/x-python",
   "name": "python",
   "nbconvert_exporter": "python",
   "pygments_lexer": "ipython3",
   "version": "3.6.0"
  }
 },
 "nbformat": 4,
 "nbformat_minor": 2
}
