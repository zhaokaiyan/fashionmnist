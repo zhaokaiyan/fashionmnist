{
 "cells": [
  {
   "cell_type": "code",
   "execution_count": null,
   "metadata": {
    "collapsed": true,
    "deletable": true,
    "editable": true
   },
   "outputs": [],
   "source": [
    "import numpy as np\n",
    "import tensorflow as tf \n",
    "from tensorflow.examples.tutorials.mnist import input_data  #导入MNIST数据集\n",
    " \n",
    "mnist = input_data.read_data_sets(\"data/fashion\",one_hot=True)\n",
    "print(mnist)\n",
    " \n",
    "# 从MNIST数据集中筛选出5000条数据用作测试\n",
    "train_X, train_Y = mnist.train.next_batch(5000)\n",
    "# 从MNIST数据集中筛选出200条数据用作测试\n",
    "test_X, test_Y = mnist.test.next_batch(100)\n",
    " \n",
    "# 图输入\n",
    "train2_X = tf.placeholder(\"float\", [None, 784])\n",
    "test2_X = tf.placeholder(\"float\", [784])\n",
    " \n",
    "# 使用L1距离计算KNN距离计算\n",
    "distance = tf.reduce_sum(tf.abs(tf.add(train2_X, tf.negative(test2_X))), reduction_indices=1)\n",
    " \n",
    "# 预测：取得最近的邻居节点\n",
    "pred = tf.arg_min(distance, 0)\n",
    " \n",
    "accuracy = 0\n",
    " \n",
    "# 变量初始化\n",
    "init = tf.global_variables_initializer()\n",
    " \n",
    "# 启动图\n",
    "with tf.Session() as sess:\n",
    "    sess.run(init)\n",
    "    # 遍历测试数据集\n",
    "    for i in range(len(test_X)):\n",
    "        # 获取最近的邻居节点\n",
    "        nn_index = sess.run(pred, feed_dict={train2_X: train_X, test2_X: test_X[i, :]})\n",
    "        # 获取最近的邻居节点的类别标签，并将其与该节点的真实类别标签进行比较\n",
    "        print(\"测试数据\", i, \"预测分类:\", np.argmax(train_Y[nn_index]), \"真实类别:\", np.argmax(test_Y[i]))\n",
    "        # 计算准确率\n",
    "        if np.argmax(train_Y[nn_index]) == np.argmax(test_Y[i]):\n",
    "            accuracy += 1./len(test_X)\n",
    "    print(\"分类准确率为:\", accuracy)"
   ]
  }
 ],
 "metadata": {
  "kernelspec": {
   "display_name": "Python 3",
   "language": "python",
   "name": "python3"
  },
  "language_info": {
   "codemirror_mode": {
    "name": "ipython",
    "version": 3
   },
   "file_extension": ".py",
   "mimetype": "text/x-python",
   "name": "python",
   "nbconvert_exporter": "python",
   "pygments_lexer": "ipython3",
   "version": "3.6.0"
  }
 },
 "nbformat": 4,
 "nbformat_minor": 2
}
