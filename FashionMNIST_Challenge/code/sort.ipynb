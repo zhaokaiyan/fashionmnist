{
 "cells": [
  {
   "cell_type": "code",
   "execution_count": null,
   "metadata": {
    "collapsed": true
   },
   "outputs": [],
   "source": [
    "import tensorflow as tf\n",
    "from tensorflow.examples.tutorials.mnist import input_data\n",
    "import numpy as np\n",
    "\n",
    "\n",
    "data = input_data.read_data_sets('data/fashion', dtype='uint8')\n",
    "data1 = data.train.images \n",
    "label1 = data.train.labels \n",
    "num = data.train.num_examples\n",
    "with tf.python_io.TFRecordWriter('train.tfrecords') as f:\n",
    "    for i in range(num):\n",
    "        img_raw = data1[i].tostring() \n",
    "        example = tf.train.Example(features=tf.train.Features(feature={\n",
    "            'data1': tf.train.Feature(bytes_list=tf.train.BytesList(value=[img_raw])), \n",
    "            'label1': tf.train.Feature(int64_list=tf.train.Int64List(value=[np.argmax(label1[i])]))\n",
    "        })) \n",
    "        f.write(example.SerializeToString()) \n",
    "\n",
    "Tdata = data.test.images\n",
    "Tlabel = data.test.labels\n",
    "Tnum = data.test.num_examples\n",
    "\n",
    "\n",
    "with tf.python_io.TFRecordWriter('test.tfrecords') as Tf:\n",
    "    for i in range(Tnum):\n",
    "        Timg_raw = Tdata[i].tostring()\n",
    "        example = tf.train.Example(features=tf.train.Features(feature={\n",
    "            'Tdata': tf.train.Feature(bytes_list=tf.train.BytesList(value=[Timg_raw])),\n",
    "            'Tlabel': tf.train.Feature(int64_list=tf.train.Int64List(value=[np.argmax(Tlabel[i])]))\n",
    "        }))\n",
    "        Tf.write(example.SerializeToString())\n",
    "Vdata = data.validation.images\n",
    "Vlabel = data.validation.labels\n",
    "Vnum = data.validation.num_examples\n",
    "\n",
    "\n",
    "with tf.python_io.TFRecordWriter('validation.tfrecords') as Tf:\n",
    "    for i in range(Vnum):\n",
    "        Vimg_raw = Vdata[i].tostring()\n",
    "        example = tf.train.Example(features=tf.train.Features(feature={\n",
    "            'Vdata': tf.train.Feature(bytes_list=tf.train.BytesList(value=[Vimg_raw])),\n",
    "            'Tlabel': tf.train.Feature(int64_list=tf.train.Int64List(value=[np.argmax(Vlabel[i])]))\n",
    "        }))\n",
    "        Tf.write(example.SerializeToString())"
   ]
  }
 ],
 "metadata": {
  "kernelspec": {
   "display_name": "Python 3",
   "language": "python",
   "name": "python3"
  },
  "language_info": {
   "codemirror_mode": {
    "name": "ipython",
    "version": 3
   },
   "file_extension": ".py",
   "mimetype": "text/x-python",
   "name": "python",
   "nbconvert_exporter": "python",
   "pygments_lexer": "ipython3",
   "version": "3.6.0"
  }
 },
 "nbformat": 4,
 "nbformat_minor": 2
}
